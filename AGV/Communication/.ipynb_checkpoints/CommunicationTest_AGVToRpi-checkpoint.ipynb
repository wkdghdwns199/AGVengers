{
 "cells": [
  {
   "cell_type": "code",
   "execution_count": 2,
   "id": "improving-sleeping",
   "metadata": {},
   "outputs": [
    {
     "name": "stdout",
     "output_type": "stream",
     "text": [
      "connected OK\n",
      "In on_pub callback mid=  1\n",
      "0\n"
     ]
    },
    {
     "data": {
      "text/plain": [
       "0"
      ]
     },
     "execution_count": 2,
     "metadata": {},
     "output_type": "execute_result"
    }
   ],
   "source": [
    "import paho.mqtt.client as mqtt\n",
    "import json\n",
    "\n",
    "def on_connect(client, userdata, flags, rc):\n",
    "    if rc == 0:\n",
    "        print(\"connected OK\")\n",
    "    else:\n",
    "        print(\"Bad connection Returned code=\", rc)\n",
    "\n",
    "def on_disconnect(client, userdata, flags, rc=0):\n",
    "    print(str(rc))\n",
    "\n",
    "def on_publish(client, userdata, mid):\n",
    "    print(\"In on_pub callback mid= \", mid)\n",
    "\n",
    "# 새로운 클라이언트 생성\n",
    "client = mqtt.Client()\n",
    "# 콜백 함수 설정 on_connect(브로커에 접속), on_disconnect(브로커에 접속중료), on_publish(메세지 발행)\n",
    "client.on_connect = on_connect\n",
    "client.on_disconnect = on_disconnect\n",
    "client.on_publish = on_publish\n",
    "\n",
    "# address : Rpi5 IP 주소, port: 1883 에 연결\n",
    "client.connect(\"172.20.10.6\", 1883)\n",
    "client.loop_start()\n",
    "# common topic 으로 메세지 발행\n",
    "topic = \"KFC\"\n",
    "msg = \"AGV to Rpi5\"\n",
    "client.publish(topic, msg, 1)\n",
    "\n",
    "client.loop_stop()\n",
    "# 연결 종료\n",
    "client.disconnect()"
   ]
  },
  {
   "cell_type": "code",
   "execution_count": null,
   "id": "oriented-collaboration",
   "metadata": {},
   "outputs": [],
   "source": []
  }
 ],
 "metadata": {
  "kernelspec": {
   "display_name": "Python 3",
   "language": "python",
   "name": "python3"
  },
  "language_info": {
   "codemirror_mode": {
    "name": "ipython",
    "version": 3
   },
   "file_extension": ".py",
   "mimetype": "text/x-python",
   "name": "python",
   "nbconvert_exporter": "python",
   "pygments_lexer": "ipython3",
   "version": "3.6.9"
  }
 },
 "nbformat": 4,
 "nbformat_minor": 5
}
