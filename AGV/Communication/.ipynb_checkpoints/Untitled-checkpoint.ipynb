{
 "cells": [
  {
   "cell_type": "code",
   "execution_count": 1,
   "id": "fatty-cambodia",
   "metadata": {},
   "outputs": [
    {
     "name": "stdout",
     "output_type": "stream",
     "text": [
      "Succeeded to open the port\n",
      "Succeeded to change the baudrate\n"
     ]
    }
   ],
   "source": [
    "from IPython.display import display\n",
    "import ipywidgets\n",
    "import ipywidgets.widgets as widgets\n",
    "import traitlets\n",
    "from jetbot import Robot, Camera, bgr8_to_jpeg\n",
    "from SCSCtrl import TTLServo\n",
    "\n",
    "import threading\n",
    "\n",
    "import paho.mqtt.client as mqtt\n",
    "from datetime import datetime\n",
    "import pytz\n",
    "import time\n",
    "import json\n",
    "import random as rd"
   ]
  },
  {
   "cell_type": "code",
   "execution_count": 2,
   "id": "democratic-debut",
   "metadata": {},
   "outputs": [],
   "source": [
    "robot = Robot()\n",
    "camera = Camera()"
   ]
  },
  {
   "cell_type": "code",
   "execution_count": 3,
   "id": "personalized-formation",
   "metadata": {},
   "outputs": [
    {
     "data": {
      "application/vnd.jupyter.widget-view+json": {
       "model_id": "5c02dbbb78754bf7858c87d81c48edad",
       "version_major": 2,
       "version_minor": 0
      },
      "text/plain": [
       "Label(value='MQTT Test')"
      ]
     },
     "metadata": {},
     "output_type": "display_data"
    },
    {
     "data": {
      "application/vnd.jupyter.widget-view+json": {
       "model_id": "ff3498e5453643208bd1d6bc80f5ec45",
       "version_major": 2,
       "version_minor": 0
      },
      "text/plain": [
       "HBox(children=(VBox(children=(Button(button_style='info', description='Start', style=ButtonStyle()), Label(val…"
      ]
     },
     "metadata": {},
     "output_type": "display_data"
    },
    {
     "data": {
      "application/vnd.jupyter.widget-view+json": {
       "model_id": "ad9395317fa849aa8acd6121a73e82d2",
       "version_major": 2,
       "version_minor": 0
      },
      "text/plain": [
       "Image(value=b'', format='jpeg', height='224', width='224')"
      ]
     },
     "metadata": {},
     "output_type": "display_data"
    }
   ],
   "source": [
    "lbl1 = ipywidgets.Label(value=\"MQTT Test\")\n",
    "\n",
    "startBtn = widgets.Button(description='Start', button_style='info')\n",
    "\n",
    "lbl2 = ipywidgets.Label(value=\"sensingData\")\n",
    "lbl3 = ipywidgets.Label(value=\"num1 : \")\n",
    "num1lbl = ipywidgets.Label(value=\"0\")\n",
    "hbox1 = widgets.HBox([lbl3, num1lbl] )\n",
    "\n",
    "lbl4 = ipywidgets.Label(value=\"num2 : \")\n",
    "num2lbl = ipywidgets.Label(value=\"0\")\n",
    "hbox2 = widgets.HBox([lbl4, num2lbl] )\n",
    "vbox1 = widgets.VBox([startBtn, lbl2, hbox1, hbox2])\n",
    "\n",
    "manualBtn = widgets.Button(description='Manual', button_style='success', disabled = True)\n",
    "lbl5 = ipywidgets.Label(value=\"commandData\")\n",
    "lbl6 = ipywidgets.Label(value=\"command : \")\n",
    "commandlbl = ipywidgets.Label(value=\"None\")\n",
    "hbox3 = widgets.HBox([lbl6, commandlbl] )\n",
    "vbox2 = widgets.VBox([manualBtn, lbl5, hbox3])\n",
    "\n",
    "hbox4 = widgets.HBox([vbox1, vbox2] )\n",
    "\n",
    "image_widget = ipywidgets.Image(format='jpeg', width=224, height=224)\n",
    "\n",
    "display(lbl1, hbox4, image_widget)\n",
    "\n",
    "camera_link = traitlets.dlink((camera, 'value'), (image_widget, 'value'), transform=bgr8_to_jpeg)"
   ]
  },
  {
   "cell_type": "code",
   "execution_count": 4,
   "id": "severe-medicare",
   "metadata": {},
   "outputs": [],
   "source": [
    "# 한국 시간대 (Asia/Seoul)로 설정\n",
    "korea_timezone = pytz.timezone(\"Asia/Seoul\")\n",
    "\n",
    "#Broker IP Address 와 Port\n",
    "#라즈베리파이5의 IP 주소로 수정필요\n",
    "address = \"172.20.10.6\"\n",
    "port = 1883\n",
    "\n",
    "commandTopic = \"AGV/command\"\n",
    "sensingTopic = \"AGV/sensing\"\n",
    "sensingData = {\n",
    "    \"time\" : \"None\",\n",
    "    \"num1\": 0.15,\n",
    "    \"num2\": 0.99,\n",
    "    \"is_finish\": 0,\n",
    "    \"manual_mode\" : \"off\"\n",
    "}\n",
    "\n",
    "publishingData = None"
   ]
  },
  {
   "cell_type": "code",
   "execution_count": 5,
   "id": "anonymous-architect",
   "metadata": {},
   "outputs": [],
   "source": [
    "def agv_stop():\n",
    "    robot.stop()\n",
    "    \n",
    "def agv_forward():\n",
    "    robot.forward(0.4)\n",
    "\n",
    "def agv_backward():\n",
    "    robot.backward(0.4)\n",
    "\n",
    "def agv_left():\n",
    "    robot.left(0.3)\n",
    "\n",
    "def agv_right():\n",
    "    robot.right(0.3)"
   ]
  },
  {
   "cell_type": "code",
   "execution_count": 6,
   "id": "parental-brook",
   "metadata": {},
   "outputs": [],
   "source": [
    "def on_connect(client, userdata, flags, rc):\n",
    "    if rc == 0:\n",
    "        print(\"connected OK\")\n",
    "    else:\n",
    "        print(\"Bad connection Returned code=\", rc)\n",
    "\n",
    "def on_publish(client, userdata, result):\n",
    "    print(\"data published\")\n",
    "\n",
    "def on_message(client, userdata, msg):\n",
    "    global message\n",
    "    message = json.loads(msg.payload.decode(\"utf-8\"))\n",
    "    #print(message, type(message))\n",
    "    \n",
    "    commandlbl.value = message[\"cmd_string\"]\n",
    "    if message[\"cmd_string\"] == \"go\":      agv_forward()\n",
    "    elif message[\"cmd_string\"] == \"mid\":   agv_stop()\n",
    "    elif message[\"cmd_string\"] == \"left\":  agv_left()\n",
    "    elif message[\"cmd_string\"] == \"right\": agv_right()\n",
    "    elif message[\"cmd_string\"] == \"back\":  agv_backward()\n",
    "    elif message[\"cmd_string\"] == \"stop\":  print('stop')\n",
    "    elif message[\"cmd_string\"] == \"exit\":\n",
    "        print('exit')\n",
    "        publishingData.stop()\n",
    "        agv_stop()"
   ]
  },
  {
   "cell_type": "code",
   "execution_count": 7,
   "id": "pending-discovery",
   "metadata": {},
   "outputs": [],
   "source": [
    "class sensorReadPublish(threading.Thread):\n",
    "    \n",
    "    def __init__(self):\n",
    "        super().__init__()\n",
    "        self.th_flag = True\n",
    "        \n",
    "    def run(self):\n",
    "\n",
    "        while self.th_flag:\n",
    "\t\t        #소수점 둘째자리까지 생성\n",
    "            num1 = round(rd.random(),2)\n",
    "            num2 = round(rd.random(),2)\n",
    "            \n",
    "            #Label widget 에 출력하기 위해 str 형변환\n",
    "            num1lbl.value = str(num1)\n",
    "            num2lbl.value = str(num2)\n",
    "            \n",
    "            #현재 시간 정보 가져오기\n",
    "            current_time = datetime.now(korea_timezone)\n",
    "            sensingData[\"time\"] = current_time.strftime(\"%Y-%m-%d %H:%M:%S\")\n",
    "            sensingData[\"num1\"] = num1\n",
    "            sensingData[\"num2\"] = num2\n",
    "            \n",
    "            #GUI Controller 로 publish 하\n",
    "            client.publish(sensingTopic, json.dumps(sensingData), 1)\n",
    "            time.sleep(0.5)\n",
    "        \n",
    "    def stop(self):\n",
    "        self.th_flag = False\n"
   ]
  },
  {
   "cell_type": "code",
   "execution_count": 9,
   "id": "appreciated-justice",
   "metadata": {},
   "outputs": [
    {
     "ename": "TabError",
     "evalue": "inconsistent use of tabs and spaces in indentation (<ipython-input-9-c8ff4b3a558c>, line 21)",
     "output_type": "error",
     "traceback": [
      "\u001b[0;36m  File \u001b[0;32m\"<ipython-input-9-c8ff4b3a558c>\"\u001b[0;36m, line \u001b[0;32m21\u001b[0m\n\u001b[0;31m    publishingData.start()\u001b[0m\n\u001b[0m                          ^\u001b[0m\n\u001b[0;31mTabError\u001b[0m\u001b[0;31m:\u001b[0m inconsistent use of tabs and spaces in indentation\n"
     ]
    }
   ],
   "source": [
    "client = None\n",
    "def startPub(change):\n",
    "    global publishingData, startBtn, client\n",
    "    \n",
    "    if startBtn.description == \"Start\" :\n",
    "        #MQTT Client 객체 생성\n",
    "        client = mqtt.Client()\n",
    "        #Broker 연결\n",
    "        client.connect(address, port)\n",
    "        \n",
    "        #Callback 함수 바인딩\n",
    "        client.on_connect = on_connect\n",
    "        client.on_publish = on_publish\n",
    "        \n",
    "        #loop_start() 를 이용해 비동기적으로 MQTT Protocol 동작\n",
    "        client.loop_start()\n",
    "        \n",
    "        #sensorReadPublish() 객체 생성\n",
    "        publishingData = sensorReadPublish()\n",
    "        #thread 시작\n",
    "        publishingData.start()\n",
    "        \n",
    "        #Start 버튼 정보 변경\n",
    "        startBtn.description = \"Stop\"\n",
    "        startBtn.button_style = 'danger'\n",
    "        \n",
    "        #Manual 버튼 활성화\n",
    "        manualBtn.disabled = False\n",
    "        \n",
    "    elif startBtn.description == \"Stop\" :\n",
    "    \n",
    "        #thread 종료\n",
    "        publishingData.stop()\n",
    "        \n",
    "        startBtn.description = \"Start\"\n",
    "        startBtn.button_style = 'info'\n",
    "        #print(\"Stop\", client.is_connected())\n",
    "\n",
    "startBtn.on_click(startPub)"
   ]
  },
  {
   "cell_type": "code",
   "execution_count": null,
   "id": "continental-television",
   "metadata": {},
   "outputs": [],
   "source": [
    "def startSub(change):\n",
    "    global manualBtn, client\n",
    "    \n",
    "    if manualBtn.description == \"Manual\" :\n",
    "        #MQTT Subscribe 시작, topic, qos\n",
    "        client.subscribe(commandTopic, 1)\n",
    "        #on_message callback 함수 등록\n",
    "        client.on_message = on_message\n",
    "        \n",
    "        manualBtn.description = \"Auto\"\n",
    "        manualBtn.button_style = 'success'\n",
    "        \n",
    "    elif manualBtn.description == \"Auto\" :\n",
    "        #MQTT Publish 종료\n",
    "        publishingData.stop()\n",
    "        manualBtn.description = \"Manual\"\n",
    "        manualBtn.button_style = 'warning'\n",
    "        manualBtn.disabled = True\n",
    "\n",
    "manualBtn.on_click(startSub)"
   ]
  },
  {
   "cell_type": "code",
   "execution_count": null,
   "id": "measured-highlight",
   "metadata": {},
   "outputs": [],
   "source": [
    "time.sleep(0.1)\n",
    "robot.stop()\n",
    "camera.stop()\n",
    "print('End')"
   ]
  }
 ],
 "metadata": {
  "kernelspec": {
   "display_name": "Python 3",
   "language": "python",
   "name": "python3"
  },
  "language_info": {
   "codemirror_mode": {
    "name": "ipython",
    "version": 3
   },
   "file_extension": ".py",
   "mimetype": "text/x-python",
   "name": "python",
   "nbconvert_exporter": "python",
   "pygments_lexer": "ipython3",
   "version": "3.6.9"
  }
 },
 "nbformat": 4,
 "nbformat_minor": 5
}
