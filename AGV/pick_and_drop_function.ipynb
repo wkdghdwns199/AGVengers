{
 "cells": [
  {
   "cell_type": "code",
   "execution_count": 2,
   "id": "stone-outside",
   "metadata": {},
   "outputs": [
    {
     "name": "stdout",
     "output_type": "stream",
     "text": [
      "Succeeded to open the port\n",
      "Succeeded to change the baudrate\n"
     ]
    }
   ],
   "source": [
    "from SCSCtrl import TTLServo\n",
    "import time"
   ]
  },
  {
   "cell_type": "code",
   "execution_count": 113,
   "id": "identified-course",
   "metadata": {},
   "outputs": [
    {
     "data": {
      "text/plain": [
       "653"
      ]
     },
     "execution_count": 113,
     "metadata": {},
     "output_type": "execute_result"
    }
   ],
   "source": [
    "TTLServo.servoAngleCtrl(1, 0, 1, 150)\n",
    "TTLServo.servoAngleCtrl(2, 0, 1, 150)\n",
    "TTLServo.servoAngleCtrl(3, 0, 1, 150)\n",
    "TTLServo.servoAngleCtrl(4, 0, 1, 150)\n",
    "TTLServo.servoAngleCtrl(5, 30, 1, 150)"
   ]
  },
  {
   "cell_type": "code",
   "execution_count": 112,
   "id": "orange-hybrid",
   "metadata": {},
   "outputs": [
    {
     "data": {
      "text/plain": [
       "[-114.6243183521641, 55.377838160268176]"
      ]
     },
     "execution_count": 112,
     "metadata": {},
     "output_type": "execute_result"
    }
   ],
   "source": [
    "TTLServo.xyInput(100, 0)"
   ]
  },
  {
   "cell_type": "code",
   "execution_count": 88,
   "id": "missing-lincoln",
   "metadata": {},
   "outputs": [],
   "source": [
    "\n",
    "\n",
    "for i in range(100, 201):\n",
    "    TTLServo.xyInput(i, 0)\n",
    "    time.sleep(0.01)\n",
    "time.sleep(1)"
   ]
  },
  {
   "cell_type": "code",
   "execution_count": null,
   "id": "efficient-highway",
   "metadata": {},
   "outputs": [],
   "source": []
  },
  {
   "cell_type": "code",
   "execution_count": 120,
   "id": "social-gospel",
   "metadata": {},
   "outputs": [],
   "source": [
    "TTLServo.servoAngleCtrl(1, 90, 1, 1500)\n",
    "time.sleep(1)\n",
    "\n",
    "TTLServo.servoAngleCtrl(2, 75, 1, 1500)\n",
    "time.sleep(1)\n",
    "\n",
    "# 집게 조이기 (grab)\n",
    "servoPos_4 = -40  # 최대치까지 조이기\n",
    "TTLServo.servoAngleCtrl(4, servoPos_4, 1, 1500)\n",
    "time.sleep(1)\n",
    "\n",
    "TTLServo.servoAngleCtrl(2, 0, 1, 1500)\n",
    "time.sleep(1)\n",
    "\n",
    "TTLServo.servoAngleCtrl(1, 0, 1, 1500)\n",
    "time.sleep(1)\n",
    "\n",
    "TTLServo.servoStop(1)\n"
   ]
  },
  {
   "cell_type": "code",
   "execution_count": 121,
   "id": "african-netherlands",
   "metadata": {},
   "outputs": [],
   "source": [
    "TTLServo.servoAngleCtrl(1, 90, 1, 1500)\n",
    "time.sleep(1)\n",
    "\n",
    "TTLServo.servoAngleCtrl(2, 75, 1, 1500)\n",
    "time.sleep(1)\n",
    "\n",
    "# 집게 조이기 (grab)\n",
    "servoPos_4 = 0  # 최대치까지 풀기\n",
    "TTLServo.servoAngleCtrl(4, servoPos_4, 1, 1500)\n",
    "time.sleep(1)\n",
    "\n",
    "TTLServo.servoAngleCtrl(2, 0, 1, 1500)\n",
    "time.sleep(1)\n",
    "\n",
    "TTLServo.servoAngleCtrl(1, 0, 1, 1500)\n",
    "time.sleep(1)\n",
    "\n",
    "TTLServo.servoStop(1)\n"
   ]
  },
  {
   "cell_type": "code",
   "execution_count": null,
   "id": "divided-finish",
   "metadata": {},
   "outputs": [],
   "source": []
  },
  {
   "cell_type": "code",
   "execution_count": null,
   "id": "choice-bikini",
   "metadata": {},
   "outputs": [],
   "source": []
  },
  {
   "cell_type": "code",
   "execution_count": null,
   "id": "false-reproduction",
   "metadata": {},
   "outputs": [],
   "source": []
  }
 ],
 "metadata": {
  "kernelspec": {
   "display_name": "Python 3",
   "language": "python",
   "name": "python3"
  },
  "language_info": {
   "codemirror_mode": {
    "name": "ipython",
    "version": 3
   },
   "file_extension": ".py",
   "mimetype": "text/x-python",
   "name": "python",
   "nbconvert_exporter": "python",
   "pygments_lexer": "ipython3",
   "version": "3.6.9"
  }
 },
 "nbformat": 4,
 "nbformat_minor": 5
}
