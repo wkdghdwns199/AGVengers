{
 "cells": [
  {
   "cell_type": "code",
   "execution_count": 1,
   "metadata": {},
   "outputs": [
    {
     "name": "stdout",
     "output_type": "stream",
     "text": [
      "Succeeded to open the port\n",
      "Succeeded to change the baudrate\n"
     ]
    }
   ],
   "source": [
    "import torchvision\n",
    "import torch\n",
    "import torchvision.transforms as transforms\n",
    "import torch.nn.functional as F\n",
    "\n",
    "from IPython.display import display\n",
    "import ipywidgets\n",
    "import ipywidgets.widgets as widgets\n",
    "import traitlets\n",
    "from jetbot import Robot, Camera, bgr8_to_jpeg\n",
    "from SCSCtrl import TTLServo\n",
    "\n",
    "import threading\n",
    "import time\n",
    "import cv2\n",
    "import PIL.Image\n",
    "import numpy as np\n",
    "from pick_drop import *\n",
    "from box_color import *"
   ]
  },
  {
   "cell_type": "code",
   "execution_count": 2,
   "metadata": {},
   "outputs": [
    {
     "data": {
      "application/vnd.jupyter.widget-view+json": {
       "model_id": "5ea47d5adb5e4534a36803c7a335df40",
       "version_major": 2,
       "version_minor": 0
      },
      "text/plain": [
       "VBox(children=(HBox(children=(Label(value='areaA :'), Label(value='None'))), HBox(children=(Label(value='areaB…"
      ]
     },
     "metadata": {},
     "output_type": "display_data"
    },
    {
     "data": {
      "application/vnd.jupyter.widget-view+json": {
       "model_id": "d491f897d32b43c986a896d592f7d21a",
       "version_major": 2,
       "version_minor": 0
      },
      "text/plain": [
       "HBox(children=(VBox(children=(Image(value=b'', format='jpeg', height='224', width='224'), FloatSlider(value=0.…"
      ]
     },
     "metadata": {},
     "output_type": "display_data"
    },
    {
     "data": {
      "application/vnd.jupyter.widget-view+json": {
       "model_id": "4dfa66185ac5451b846f1cb7ed4ce97d",
       "version_major": 2,
       "version_minor": 0
      },
      "text/plain": [
       "HBox(children=(Button(button_style='info', description='Start', style=ButtonStyle()), Label(value='Find Area :…"
      ]
     },
     "metadata": {},
     "output_type": "display_data"
    },
    {
     "data": {
      "application/vnd.jupyter.widget-view+json": {
       "model_id": "2d2b262ab07543a7980dbce0f257e63b",
       "version_major": 2,
       "version_minor": 0
      },
      "text/plain": [
       "HBox(children=(VBox(children=(Label(value='Manual Controller'), Button(description='forward', layout=Layout(al…"
      ]
     },
     "metadata": {},
     "output_type": "display_data"
    }
   ],
   "source": [
    "MODEL_PATH = \"/home/jetbot/Notebooks/road_following/523_1100.pth\"\n",
    "\n",
    "areaA = 'green'\n",
    "areaB = 'orange'\n",
    "robot = None\n",
    "camera = None\n",
    "model = None\n",
    "mean = None\n",
    "std = None\n",
    "\n",
    "lbl1 = ipywidgets.Label(value=\"areaA :\")\n",
    "areaAlbl = ipywidgets.Label(value=\"None\")\n",
    "hbox1 = widgets.HBox([lbl1, areaAlbl])\n",
    "\n",
    "lbl2 = ipywidgets.Label(value=\"areaB :\")\n",
    "areaBlbl = ipywidgets.Label(value=\"None\")\n",
    "hbox2 = widgets.HBox([lbl2, areaBlbl])\n",
    "\n",
    "lbl3 = ipywidgets.Label(value=\"self.flag :\")\n",
    "flaglbl = ipywidgets.Label(value=\"None\")\n",
    "hbox3 = widgets.HBox([lbl3, flaglbl])\n",
    "vbox1 = widgets.VBox([hbox1, hbox2, hbox3])\n",
    "\n",
    "image_widget = ipywidgets.Image(format='jpeg', width=224, height=224)\n",
    "x_slider = ipywidgets.FloatSlider(min=-1.0, max=1.0, description='x')\n",
    "y_slider = ipywidgets.FloatSlider(min=0, max=1.0, orientation='vertical', description='y')\n",
    "steering_slider = ipywidgets.FloatSlider(min=-1.0, max=1.0, description='steering')\n",
    "speed_slider = ipywidgets.FloatSlider(min=0, max=1.0, orientation='vertical', description='speed')\n",
    "vbox2 = widgets.VBox([image_widget, x_slider, steering_slider], layout=widgets.Layout(align_self='center'))\n",
    "hbox4 = widgets.HBox([vbox2, y_slider, speed_slider], layout=widgets.Layout(align_self='center'))\n",
    "\n",
    "startBtn = widgets.Button(description=\"Start\", button_style='info')\n",
    "lbl41 = ipywidgets.Label(value=\"Find Area : \")\n",
    "goallbl = ipywidgets.Label(value=\"None\")\n",
    "hbox5 = widgets.HBox([startBtn, lbl41, goallbl])\n",
    "\n",
    "lbl50 = ipywidgets.Label(value=\"Manual Controller\")\n",
    "button_layout = widgets.Layout(width='100px', height='80px', align_self='center')\n",
    "stop_button = widgets.Button(description='stop', button_style='danger', layout=button_layout)\n",
    "forward_button = widgets.Button(description='forward', layout=button_layout)\n",
    "backward_button = widgets.Button(description='backward', layout=button_layout)\n",
    "left_button = widgets.Button(description='left', layout=button_layout)\n",
    "right_button = widgets.Button(description='right', layout=button_layout)\n",
    "middle_box = widgets.HBox([left_button, stop_button, right_button], layout=widgets.Layout(align_self='center'))\n",
    "controls_box = widgets.VBox([lbl50, forward_button, middle_box, backward_button])\n",
    "\n",
    "lbl51 = ipywidgets.Label(value=\"Auto Controller\")\n",
    "speed_gain_slider = ipywidgets.FloatSlider(min=0.0, max=1.0, step=0.01, value=0.25, description='speed gain')\n",
    "steering_gain_slider = ipywidgets.FloatSlider(min=0.0, max=1.0, step=0.01, value=0.2, description='steering gain')\n",
    "steering_dgain_slider = ipywidgets.FloatSlider(min=0.0, max=0.5, step=0.001, value=0.0, description='steering kd')\n",
    "steering_bias_slider = ipywidgets.FloatSlider(min=-0.3, max=0.3, step=0.01, value=0.0, description='steering bias')\n",
    "vbox3 = widgets.VBox([lbl51, speed_gain_slider, steering_gain_slider, steering_dgain_slider, steering_bias_slider])\n",
    "hbox6 = widgets.HBox([controls_box, vbox3], layout=widgets.Layout(align_self='center'))\n",
    "\n",
    "display(vbox1, hbox4, hbox5, hbox6)\n",
    "\n",
    "manual_btnlst = [stop_button, forward_button, backward_button, left_button, right_button]"
   ]
  },
  {
   "cell_type": "code",
   "execution_count": 3,
   "metadata": {},
   "outputs": [],
   "source": [
    "def stop(change):\n",
    "    robot.stop()\n",
    "\n",
    "def step_forward(change):\n",
    "    robot.forward(0.4)\n",
    "\n",
    "def step_backward(change):\n",
    "    robot.backward(0.4)\n",
    "\n",
    "def step_left(change):\n",
    "    robot.left(0.3)\n",
    "    time.sleep(0.5)\n",
    "    robot.stop()\n",
    "\n",
    "def step_right(change):\n",
    "    robot.right(0.3)\n",
    "    time.sleep(0.5)\n",
    "    robot.stop()\n",
    "\n",
    "stop_button.on_click(stop)\n",
    "forward_button.on_click(step_forward)\n",
    "backward_button.on_click(step_backward)\n",
    "left_button.on_click(step_left)\n",
    "right_button.on_click(step_right)"
   ]
  },
  {
   "cell_type": "code",
   "execution_count": 4,
   "metadata": {},
   "outputs": [],
   "source": [
    "colors = [\n",
    "    {'name': 'red', 'lower': np.array([0, 140, 50]),  'upper': np.array([25, 160, 255])},\n",
    "    {'name': 'green', 'lower': np.array([50, 130, 70]),  'upper': np.array([89, 150, 255])},\n",
    "    {'name': 'blue', 'lower': np.array([90, 190, 70]),  'upper': np.array([120, 215, 255])},\n",
    "    {'name': 'purple', 'lower': np.array([125, 50, 70]), 'upper': np.array([158, 255, 255])},\n",
    "    {'name': 'yellow', 'lower': np.array([20, 120, 100]), 'upper': np.array([30, 139, 255])},\n",
    "    {'name': 'orange', 'lower': np.array([10, 170, 20]), 'upper': np.array([19, 210, 255])}\n",
    "]\n",
    "\n",
    "areaA_color = next((color for color in colors if color['name'] == areaA), None)\n",
    "areaB_color = next((color for color in colors if color['name'] == areaB), None)\n",
    "\n",
    "areaAlbl.value = areaA_color['name']\n",
    "areaBlbl.value = areaB_color['name']\n",
    "\n",
    "findArea = areaA\n",
    "goallbl.value = findArea\n",
    "\n",
    "frame_width = 224\n",
    "frame_height = 224\n",
    "camera_center_X = int(frame_width / 2)\n",
    "camera_center_Y = int(frame_height / 2)\n",
    "\n",
    "colorHSVvalueList = []\n",
    "max_len = 20\n",
    "\n",
    "roadFinding = None\n",
    "goalFinding = None\n",
    "device = None"
   ]
  },
  {
   "cell_type": "code",
   "execution_count": 5,
   "metadata": {},
   "outputs": [],
   "source": [
    "def load_model():\n",
    "    global model, device, mean, std\n",
    "    model = torchvision.models.resnet18(pretrained=False)\n",
    "    model.fc = torch.nn.Linear(512, 2)\n",
    "    model.load_state_dict(torch.load(MODEL_PATH))\n",
    "    device = torch.device('cuda')\n",
    "    model = model.to(device)\n",
    "    model = model.eval().half()\n",
    "    mean = torch.Tensor([0.485, 0.456, 0.406]).cuda().half()\n",
    "    std = torch.Tensor([0.229, 0.224, 0.225]).cuda().half()\n",
    "    print('model load success')"
   ]
  },
  {
   "cell_type": "code",
   "execution_count": 6,
   "metadata": {},
   "outputs": [],
   "source": [
    "def init():\n",
    "    global robot, camera, camera_link\n",
    "    robot = Robot()\n",
    "    camera = Camera()\n",
    "    motor_init()\n",
    "    camera_link = traitlets.dlink((camera, 'value'), (image_widget, 'value'), transform=bgr8_to_jpeg)\n",
    "    load_model()"
   ]
  },
  {
   "cell_type": "code",
   "execution_count": 7,
   "metadata": {},
   "outputs": [],
   "source": [
    "class WorkingAreaFind(threading.Thread):\n",
    "    def __init__(self):\n",
    "        super().__init__()\n",
    "        self.th_flag = True\n",
    "        self.imageInput = 0\n",
    "        self.flag = 1\n",
    "        flaglbl.value = str(self.flag)\n",
    "\n",
    "    def run(self):\n",
    "        while self.th_flag:\n",
    "            self.imageInput = camera.value\n",
    "            hsv = cv2.cvtColor(self.imageInput, cv2.COLOR_BGR2HSV)\n",
    "            hsv = cv2.blur(hsv, (15, 15))\n",
    "\n",
    "            areaA_mask = cv2.inRange(hsv, areaA_color['lower'], areaA_color['upper'])\n",
    "            areaA_mask = cv2.erode(areaA_mask, None, iterations=2)\n",
    "            areaA_mask = cv2.dilate(areaA_mask, None, iterations=2)\n",
    "\n",
    "            areaB_mask = cv2.inRange(hsv, areaB_color['lower'], areaB_color['upper'])\n",
    "            areaB_mask = cv2.erode(areaB_mask, None, iterations=2)\n",
    "            areaB_mask = cv2.dilate(areaB_mask, None, iterations=2)\n",
    "\n",
    "            AContours, _ = cv2.findContours(areaA_mask.copy(), cv2.RETR_EXTERNAL, cv2.CHAIN_APPROX_SIMPLE)\n",
    "            BContours, _ = cv2.findContours(areaB_mask.copy(), cv2.RETR_EXTERNAL, cv2.CHAIN_APPROX_SIMPLE)\n",
    "\n",
    "            if AContours and self.flag == 1:\n",
    "                self.findCenter(areaA, AContours)\n",
    "            elif BContours and self.flag == 2:\n",
    "                self.findCenter(areaB, BContours)\n",
    "            else:\n",
    "                cv2.putText(self.imageInput, \"Finding...\", (0, 20), cv2.FONT_HERSHEY_SIMPLEX, 0.5, (255, 255, 255), 1, cv2.LINE_AA)\n",
    "                image_widget.value = bgr8_to_jpeg(self.imageInput)\n",
    "\n",
    "            time.sleep(0.1)\n",
    "\n",
    "    def findCenter(self, name, Contours):\n",
    "        global roadFinding, findArea, areaA\n",
    "        c = max(Contours, key=cv2.contourArea)\n",
    "        ((box_x, box_y), radius) = cv2.minEnclosingCircle(c)\n",
    "\n",
    "        X = int(box_x)\n",
    "        Y = int(box_y)\n",
    "\n",
    "        error_Y = abs(camera_center_Y - Y)\n",
    "        error_X = abs(camera_center_X - X)\n",
    "\n",
    "        if error_Y < 15 and error_X < 15:\n",
    "            if name == areaA and self.flag == 1:\n",
    "                self.flag = 2\n",
    "                findArea = areaB\n",
    "                goallbl.value = findArea\n",
    "                areaAlbl.value = areaA + \" Goal!\"\n",
    "                flaglbl.value = str(self.flag)\n",
    "                roadFinding.halt()\n",
    "                look_right()\n",
    "                drop()\n",
    "                roadFinding.resume()\n",
    "\n",
    "            elif name == areaB and self.flag == 2:\n",
    "                self.flag = 1\n",
    "                findArea = areaB\n",
    "                goallbl.value = findArea\n",
    "                areaBlbl.value = areaB + \" Goal!\"\n",
    "                flaglbl.value = str(self.flag)\n",
    "                roadFinding.stop()\n",
    "                time.sleep(0.5)\n",
    "                self.flag = 1\n",
    "                look_right()\n",
    "                areaA = get_center_color(camera)\n",
    "                areaAlbl.value = areaA\n",
    "                pick()\n",
    "                roadFinding = RobotMoving()\n",
    "                roadFinding.start()\n",
    "\n",
    "        image_widget.value = bgr8_to_jpeg(self.imageInput)\n",
    "\n",
    "    def stop(self):\n",
    "        self.th_flag = False\n",
    "        robot.stop()"
   ]
  },
  {
   "cell_type": "code",
   "execution_count": 8,
   "metadata": {},
   "outputs": [],
   "source": [
    "class RobotMoving(threading.Thread):\n",
    "    def __init__(self):\n",
    "        super().__init__()\n",
    "        self.th_flag = True\n",
    "        self.angle = 0.0\n",
    "        self.angle_last = 0.0\n",
    "        self.halt_flag = False\n",
    "\n",
    "    def run(self):\n",
    "        while self.th_flag:\n",
    "            if self.halt_flag:\n",
    "                robot.left_motor.value = 0\n",
    "                robot.right_motor.value = 0\n",
    "                time.sleep(5)\n",
    "                continue\n",
    "                \n",
    "            image = camera.value\n",
    "            xy = model(self.preprocess(image)).detach().float().cpu().numpy().flatten()\n",
    "            x = xy[0]\n",
    "            y = (0.5 - xy[1]) / 2.0\n",
    "            x_slider.value = x\n",
    "            y_slider.value = y\n",
    "            speed_slider.value = speed_gain_slider.value\n",
    "            image_widget.value = bgr8_to_jpeg(image)\n",
    "\n",
    "            self.angle = np.arctan2(x, y)\n",
    "\n",
    "            if not self.th_flag:\n",
    "                break\n",
    "\n",
    "            pid = self.angle * steering_gain_slider.value + (self.angle - self.angle_last) * steering_dgain_slider.value\n",
    "            self.angle_last = self.angle\n",
    "\n",
    "            steering_slider.value = pid + steering_bias_slider.value\n",
    "\n",
    "            robot.left_motor.value = max(min(speed_slider.value + steering_slider.value, 1.0), 0.0)\n",
    "            robot.right_motor.value = max(min(speed_slider.value - steering_slider.value, 1.0), 0.0)\n",
    "            time.sleep(0.1)\n",
    "        robot.stop()\n",
    "\n",
    "    def preprocess(self, image):\n",
    "        image = PIL.Image.fromarray(image)\n",
    "        image = transforms.functional.to_tensor(image).to(device).half()\n",
    "        image.sub_(mean[:, None, None]).div_(std[:, None, None])\n",
    "        return image[None, ...]\n",
    "    \n",
    "    def halt(self):\n",
    "        self.halt_flag = True\n",
    "        \n",
    "    def resume(self):\n",
    "        self.halt_flag = False\n",
    "\n",
    "    def stop(self):\n",
    "        self.th_flag = False\n",
    "        robot.stop()"
   ]
  },
  {
   "cell_type": "code",
   "execution_count": 9,
   "metadata": {},
   "outputs": [],
   "source": [
    "def start(_=None):\n",
    "    global camera_link, goalFinding, roadFinding, areaA\n",
    "    if startBtn.description == \"Start\":\n",
    "        camera_link.unlink()\n",
    "        look_right()\n",
    "        areaA = get_center_color(camera)\n",
    "        time.sleep(3)\n",
    "        pick()\n",
    "        goalFinding = WorkingAreaFind()\n",
    "        goalFinding.start()\n",
    "        roadFinding = RobotMoving()\n",
    "        roadFinding.start()\n",
    "        startBtn.button_style = \"warning\"\n",
    "        startBtn.description = \"Stop\"\n",
    "    elif startBtn.description == \"Stop\":\n",
    "        roadFinding.stop()\n",
    "        goalFinding.stop()\n",
    "        camera_link = traitlets.dlink((camera, 'value'), (image_widget, 'value'), transform=bgr8_to_jpeg)\n",
    "        startBtn.button_style = \"info\"\n",
    "        startBtn.description = \"Start\""
   ]
  },
  {
   "cell_type": "code",
   "execution_count": 10,
   "metadata": {},
   "outputs": [
    {
     "name": "stdout",
     "output_type": "stream",
     "text": [
      "model load success\n"
     ]
    }
   ],
   "source": [
    "init()"
   ]
  },
  {
   "cell_type": "code",
   "execution_count": 11,
   "metadata": {},
   "outputs": [],
   "source": [
    "startBtn.on_click(start)"
   ]
  },
  {
   "cell_type": "code",
   "execution_count": null,
   "metadata": {},
   "outputs": [],
   "source": [
    "# if __name__ == \"__main__\":\n",
    "#     init()\n",
    "#     startBtn.on_click(start)\n",
    "#     start()"
   ]
  },
  {
   "cell_type": "code",
   "execution_count": 49,
   "metadata": {},
   "outputs": [
    {
     "name": "stdout",
     "output_type": "stream",
     "text": [
      "End\n"
     ]
    }
   ],
   "source": [
    "time.sleep(0.1)\n",
    "robot.stop()\n",
    "camera.stop()\n",
    "\n",
    "print('End')"
   ]
  }
 ],
 "metadata": {
  "kernelspec": {
   "display_name": "Python 3",
   "language": "python",
   "name": "python3"
  },
  "language_info": {
   "codemirror_mode": {
    "name": "ipython",
    "version": 3
   },
   "file_extension": ".py",
   "mimetype": "text/x-python",
   "name": "python",
   "nbconvert_exporter": "python",
   "pygments_lexer": "ipython3",
   "version": "3.6.9"
  }
 },
 "nbformat": 4,
 "nbformat_minor": 4
}
